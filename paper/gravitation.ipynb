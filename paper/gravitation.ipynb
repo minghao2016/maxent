{
 "cells": [
  {
   "cell_type": "code",
   "execution_count": null,
   "metadata": {},
   "outputs": [],
   "source": [
    "import numpy as np\n",
    "import os\n",
    "import tensorflow as tf\n",
    "import maxent\n",
    "import matplotlib.pyplot as plt\n",
    "from sbi_gravitation import GravitySimulator, sim_wrapper, get_observation_points, prior_means"
   ]
  },
  {
   "cell_type": "code",
   "execution_count": null,
   "metadata": {},
   "outputs": [],
   "source": [
    "# set up true parameters\n",
    "m1 = 100. # solar masses\n",
    "m2 = 50. # solar masses\n",
    "m3 = 75 # solar masses\n",
    "G = 1.90809e5 # solar radius / solar mass * (km/s)^2\n",
    "v0 = np.array([15.,-40.]) # km/s"
   ]
  },
  {
   "cell_type": "code",
   "execution_count": null,
   "metadata": {},
   "outputs": [],
   "source": [
    "if os.path.exists('true_trajectory.txt'):\n",
    "    traj = np.genfromtxt('true_trajectory.txt')\n",
    "else:\n",
    "# make \"true\" path\n",
    "    sim = GravitySimulator(m1, m2, m3, v0, random_noise=False)\n",
    "    traj = sim.run()\n",
    "    np.savetxt('true_trajectory.txt', traj)\n",
    "    sim.plot_traj()\n",
    "\n",
    "if os.path.exists('noisy_trajectory.txt'):\n",
    "    traj=np.genfromtxt('noisy_trajectory.txt')\n",
    "    \n",
    "sim = GravitySimulator(m1, m2, m3, v0, random_noise=True)\n",
    "traj = sim.run()\n",
    "\n",
    "np.savetxt('noisy_trajectory.txt', traj)\n",
    "observation_summary_stats = get_observation_points(traj).flatten()\n",
    "sim.plot_traj()"
   ]
  },
  {
   "cell_type": "code",
   "execution_count": null,
   "metadata": {},
   "outputs": [],
   "source": [
    "prior = MultivariateNormal(loc=torch.as_tensor(prior_means),\n",
    "                            covariance_matrix=torch.as_tensor(torch.eye(5)*50))\n",
    "\n",
    "posterior = infer(sim_wrapper, prior, method='SNLE', num_simulations=2048, num_workers=16)"
   ]
  },
  {
   "cell_type": "code",
   "execution_count": null,
   "metadata": {},
   "outputs": [],
   "source": [
    "samples = posterior.sample((2000,), x=observation_summary_stats)\n",
    "\n",
    "np.savetxt('wide_prior_samples.txt', np.array(samples))"
   ]
  }
 ],
 "metadata": {
  "kernelspec": {
   "display_name": "Python 3",
   "language": "python",
   "name": "python3"
  },
  "language_info": {
   "codemirror_mode": {
    "name": "ipython",
    "version": 3
   },
   "file_extension": ".py",
   "mimetype": "text/x-python",
   "name": "python",
   "nbconvert_exporter": "python",
   "pygments_lexer": "ipython3",
   "version": "3.8.3"
  }
 },
 "nbformat": 4,
 "nbformat_minor": 4
}
